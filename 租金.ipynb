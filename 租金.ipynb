{
 "cells": [
  {
   "cell_type": "code",
   "execution_count": null,
   "metadata": {},
   "outputs": [],
   "source": [
    "import pandas as pd\n",
    "from sklearn.model_selection import train_test_split\n",
    "from sklearn.linear_model import LinearRegression\n",
    "from sklearn.metrics import mean_squared_error\n",
    "\n",
    "# 读取房价指数数据和租金数据\n",
    "price_data = pd.read_csv('price_data.csv')\n",
    "rental_data = pd.read_csv('rental_data.csv')\n",
    "\n",
    "# 合并数据集\n",
    "merged_data = pd.merge(price_data, rental_data, on=['RegionID', 'RegionName', 'City', 'State'])\n",
    "\n",
    "# 计算租售比\n",
    "merged_data['RentPriceRatio'] = merged_data['RentalData'] / merged_data['PriceData']\n",
    "\n",
    "# 选择特征\n",
    "features = ['RegionName', 'City', 'State', 'OtherFeatures']  # 替换为您认为相关的特征\n",
    "\n",
    "# 特征编码（如城市、州的独热编码）\n",
    "encoded_data = pd.get_dummies(merged_data[features])\n",
    "\n",
    "# 拆分数据集\n",
    "X = encoded_data\n",
    "y = merged_data['RentPriceRatio']\n",
    "X_train, X_test, y_train, y_test = train_test_split(X, y, test_size=0.2, random_state=42)\n",
    "\n",
    "# 建立线性回归模型\n",
    "model = LinearRegression()\n",
    "model.fit(X_train, y_train)\n",
    "\n",
    "# 预测\n",
    "y_pred = model.predict(X_test)\n",
    "\n",
    "# 评估模型\n",
    "rmse = mean_squared_error(y_test, y_pred, squared=False)\n",
    "print(f'Root Mean Squared Error: {rmse}')\n"
   ]
  }
 ],
 "metadata": {
  "language_info": {
   "name": "python"
  },
  "orig_nbformat": 4
 },
 "nbformat": 4,
 "nbformat_minor": 2
}
